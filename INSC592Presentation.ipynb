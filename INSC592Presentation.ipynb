{
 "cells": [
  {
   "cell_type": "code",
   "execution_count": 1,
   "metadata": {},
   "outputs": [
    {
     "name": "stdout",
     "output_type": "stream",
     "text": [
      "helloworld\n"
     ]
    }
   ],
   "source": [
    "print('helloworld')"
   ]
  },
  {
   "cell_type": "code",
   "execution_count": 2,
   "metadata": {},
   "outputs": [
    {
     "name": "stdout",
     "output_type": "stream",
     "text": [
      "hello again\n"
     ]
    }
   ],
   "source": [
    "x = ('hello again')\n",
    "print (x)"
   ]
  },
  {
   "cell_type": "code",
   "execution_count": 3,
   "metadata": {},
   "outputs": [],
   "source": [
    "import matplotlib.pyplot as plt\n",
    "import pandas as pd\n",
    "import numpy as np\n",
    "from pandas import Series, DataFrame"
   ]
  },
  {
   "cell_type": "markdown",
   "metadata": {},
   "source": [
    "# How to import your data"
   ]
  },
  {
   "cell_type": "markdown",
   "metadata": {},
   "source": [
    "Using the pandas library, tell jupyter to read your cleaned excel file\n",
    "\n",
    "df = pd.read_excel(DATA LOCATION on YOUR MACHINE)\n",
    "\n",
    "print (df)\n"
   ]
  },
  {
   "cell_type": "code",
   "execution_count": 4,
   "metadata": {},
   "outputs": [
    {
     "name": "stdout",
     "output_type": "stream",
     "text": [
      "                Customer  Rating                              RatingText  \\\n",
      "0             Judy Brown       5              Tom & Jerry at their best!   \n",
      "1        Amazon Customer       5                                    None   \n",
      "2    Jennifer B. DeMarco       1                             Wrong movie   \n",
      "3                Melissa       5        Great transaction, Great product   \n",
      "4              Ghost2049       5                              good movie   \n",
      "..                   ...     ...                                     ...   \n",
      "143         L. V. Schoff       5      Tom and Jerry and the Wizard of Oz   \n",
      "144                Larry       5         Grandkids' Favorite from Amazon   \n",
      "145        bananabear987       5          Tom & Jerry & The Wizard of Oz   \n",
      "146        Jewelry Lover       5  Very entertaining and fun for all ages   \n",
      "147          thedicarlos       4                             Pretty Good   \n",
      "\n",
      "           Country       Date  \\\n",
      "0    United States 2021-01-11   \n",
      "1    United States 2019-08-25   \n",
      "2    United States 2019-05-28   \n",
      "3    United States 2019-03-12   \n",
      "4    United States 2019-02-12   \n",
      "..             ...        ...   \n",
      "143  United States 2011-10-11   \n",
      "144  United States 2011-10-01   \n",
      "145  United States 2011-09-22   \n",
      "146  United States 2011-09-02   \n",
      "147  United States 2011-07-26   \n",
      "\n",
      "                                              Comments  \n",
      "0    It's harder to find Tom & Jerry collections th...  \n",
      "1                                    Daughter loved it  \n",
      "2                       I got the wrong movie twice...  \n",
      "3                     Great transaction, Great product  \n",
      "4                                            I like it  \n",
      "..                                                 ...  \n",
      "143  This movie was purchased for the grandson and ...  \n",
      "144  Tom and Jerry are my grandkids' favorites. Thi...  \n",
      "145  My son, who is 5, loves this movie! Any Tom & ...  \n",
      "146  I watched Tom and Jerry as a kid and when we s...  \n",
      "147  Pretty darn cool! My daughter is a big Oz fan....  \n",
      "\n",
      "[148 rows x 6 columns]\n"
     ]
    }
   ],
   "source": [
    "df = pd.read_excel(r'C:\\Users\\TF\\JupyterNotebooks\\AmazonStructuredImport.xlsx')\n",
    "print (df)"
   ]
  },
  {
   "cell_type": "code",
   "execution_count": 5,
   "metadata": {
    "scrolled": true
   },
   "outputs": [
    {
     "data": {
      "text/html": [
       "<div>\n",
       "<style scoped>\n",
       "    .dataframe tbody tr th:only-of-type {\n",
       "        vertical-align: middle;\n",
       "    }\n",
       "\n",
       "    .dataframe tbody tr th {\n",
       "        vertical-align: top;\n",
       "    }\n",
       "\n",
       "    .dataframe thead th {\n",
       "        text-align: right;\n",
       "    }\n",
       "</style>\n",
       "<table border=\"1\" class=\"dataframe\">\n",
       "  <thead>\n",
       "    <tr style=\"text-align: right;\">\n",
       "      <th></th>\n",
       "      <th>Customer</th>\n",
       "      <th>Rating</th>\n",
       "      <th>RatingText</th>\n",
       "      <th>Country</th>\n",
       "      <th>Date</th>\n",
       "      <th>Comments</th>\n",
       "    </tr>\n",
       "  </thead>\n",
       "  <tbody>\n",
       "    <tr>\n",
       "      <th>0</th>\n",
       "      <td>Judy Brown</td>\n",
       "      <td>5</td>\n",
       "      <td>Tom &amp; Jerry at their best!</td>\n",
       "      <td>United States</td>\n",
       "      <td>2021-01-11</td>\n",
       "      <td>It's harder to find Tom &amp; Jerry collections th...</td>\n",
       "    </tr>\n",
       "    <tr>\n",
       "      <th>1</th>\n",
       "      <td>Amazon Customer</td>\n",
       "      <td>5</td>\n",
       "      <td>None</td>\n",
       "      <td>United States</td>\n",
       "      <td>2019-08-25</td>\n",
       "      <td>Daughter loved it</td>\n",
       "    </tr>\n",
       "    <tr>\n",
       "      <th>2</th>\n",
       "      <td>Jennifer B. DeMarco</td>\n",
       "      <td>1</td>\n",
       "      <td>Wrong movie</td>\n",
       "      <td>United States</td>\n",
       "      <td>2019-05-28</td>\n",
       "      <td>I got the wrong movie twice...</td>\n",
       "    </tr>\n",
       "    <tr>\n",
       "      <th>3</th>\n",
       "      <td>Melissa</td>\n",
       "      <td>5</td>\n",
       "      <td>Great transaction, Great product</td>\n",
       "      <td>United States</td>\n",
       "      <td>2019-03-12</td>\n",
       "      <td>Great transaction, Great product</td>\n",
       "    </tr>\n",
       "    <tr>\n",
       "      <th>4</th>\n",
       "      <td>Ghost2049</td>\n",
       "      <td>5</td>\n",
       "      <td>good movie</td>\n",
       "      <td>United States</td>\n",
       "      <td>2019-02-12</td>\n",
       "      <td>I like it</td>\n",
       "    </tr>\n",
       "  </tbody>\n",
       "</table>\n",
       "</div>"
      ],
      "text/plain": [
       "              Customer  Rating                        RatingText  \\\n",
       "0           Judy Brown       5        Tom & Jerry at their best!   \n",
       "1      Amazon Customer       5                              None   \n",
       "2  Jennifer B. DeMarco       1                       Wrong movie   \n",
       "3              Melissa       5  Great transaction, Great product   \n",
       "4            Ghost2049       5                        good movie   \n",
       "\n",
       "         Country       Date                                           Comments  \n",
       "0  United States 2021-01-11  It's harder to find Tom & Jerry collections th...  \n",
       "1  United States 2019-08-25                                  Daughter loved it  \n",
       "2  United States 2019-05-28                     I got the wrong movie twice...  \n",
       "3  United States 2019-03-12                   Great transaction, Great product  \n",
       "4  United States 2019-02-12                                          I like it  "
      ]
     },
     "execution_count": 5,
     "metadata": {},
     "output_type": "execute_result"
    }
   ],
   "source": [
    "df.head()"
   ]
  },
  {
   "cell_type": "markdown",
   "metadata": {},
   "source": [
    "### Use the shape function to find the number of rows and columns"
   ]
  },
  {
   "cell_type": "code",
   "execution_count": 6,
   "metadata": {},
   "outputs": [
    {
     "data": {
      "text/plain": [
       "(148, 6)"
      ]
     },
     "execution_count": 6,
     "metadata": {},
     "output_type": "execute_result"
    }
   ],
   "source": [
    "df.shape"
   ]
  },
  {
   "cell_type": "code",
   "execution_count": 7,
   "metadata": {},
   "outputs": [
    {
     "data": {
      "text/html": [
       "<div>\n",
       "<style scoped>\n",
       "    .dataframe tbody tr th:only-of-type {\n",
       "        vertical-align: middle;\n",
       "    }\n",
       "\n",
       "    .dataframe tbody tr th {\n",
       "        vertical-align: top;\n",
       "    }\n",
       "\n",
       "    .dataframe thead th {\n",
       "        text-align: right;\n",
       "    }\n",
       "</style>\n",
       "<table border=\"1\" class=\"dataframe\">\n",
       "  <thead>\n",
       "    <tr style=\"text-align: right;\">\n",
       "      <th></th>\n",
       "      <th>Rating</th>\n",
       "    </tr>\n",
       "  </thead>\n",
       "  <tbody>\n",
       "    <tr>\n",
       "      <th>count</th>\n",
       "      <td>148.000000</td>\n",
       "    </tr>\n",
       "    <tr>\n",
       "      <th>mean</th>\n",
       "      <td>4.689189</td>\n",
       "    </tr>\n",
       "    <tr>\n",
       "      <th>std</th>\n",
       "      <td>0.847978</td>\n",
       "    </tr>\n",
       "    <tr>\n",
       "      <th>min</th>\n",
       "      <td>1.000000</td>\n",
       "    </tr>\n",
       "    <tr>\n",
       "      <th>25%</th>\n",
       "      <td>5.000000</td>\n",
       "    </tr>\n",
       "    <tr>\n",
       "      <th>50%</th>\n",
       "      <td>5.000000</td>\n",
       "    </tr>\n",
       "    <tr>\n",
       "      <th>75%</th>\n",
       "      <td>5.000000</td>\n",
       "    </tr>\n",
       "    <tr>\n",
       "      <th>max</th>\n",
       "      <td>5.000000</td>\n",
       "    </tr>\n",
       "  </tbody>\n",
       "</table>\n",
       "</div>"
      ],
      "text/plain": [
       "           Rating\n",
       "count  148.000000\n",
       "mean     4.689189\n",
       "std      0.847978\n",
       "min      1.000000\n",
       "25%      5.000000\n",
       "50%      5.000000\n",
       "75%      5.000000\n",
       "max      5.000000"
      ]
     },
     "execution_count": 7,
     "metadata": {},
     "output_type": "execute_result"
    }
   ],
   "source": [
    "df.describe()"
   ]
  },
  {
   "cell_type": "code",
   "execution_count": null,
   "metadata": {
    "scrolled": true
   },
   "outputs": [],
   "source": []
  },
  {
   "cell_type": "markdown",
   "metadata": {},
   "source": [
    "### Use Matplotlib to show a graph"
   ]
  },
  {
   "cell_type": "raw",
   "metadata": {},
   "source": []
  },
  {
   "cell_type": "code",
   "execution_count": 8,
   "metadata": {
    "scrolled": true
   },
   "outputs": [
    {
     "data": {
      "image/png": "[encoded data removed]",
      "text/plain": [
       "<Figure size 432x288 with 1 Axes>"
      ]
     },
     "metadata": {
      "needs_background": "light"
     },
     "output_type": "display_data"
    }
   ],
   "source": [
    "data = [23, 45, 56, 78, 213]\n",
    "    \n",
    "plt.bar(range(len(data)), data, color='red')\n",
    "plt.show()"
   ]
  },
  {
   "cell_type": "code",
   "execution_count": 9,
   "metadata": {},
   "outputs": [
    {
     "data": {
      "image/png": "[encoded data removed]",
      "text/plain": [
       "<Figure size 432x288 with 1 Axes>"
      ]
     },
     "metadata": {
      "needs_background": "light"
     },
     "output_type": "display_data"
    }
   ],
   "source": [
    "hist = (5,5,1,5,5,4,5,5,5,1,5,5,5,5,5,5,4,5,5,5,5,5,5,5,5,4,4,4,5,5,4,5,5,5,5,5,4,5,5,5,4,5,5,5,5,5,4,5,5,5,3,5,5,5,5,5,5,5,5,5,5,4,5,5,1,5,5,4,5,5,5,5,5,5,5,5,5,5,5,5,5,5,5,5,5,5,1,5,5,4,3,5,5,5,5,5,5,5,5,5,5,5,4,5,5,5,5,5,4,5,5,5,5,5,2,5,5,5,5,5,5,5,3,5,5,5,5,5,3,5,5,5,5,5,1,5,5,5,5,5,5,5,5,5,5,5,5,4\n",
    ")\n",
    "\n",
    "plt.hist(hist)\n",
    "plt.show()"
   ]
  },
  {
   "cell_type": "code",
   "execution_count": null,
   "metadata": {},
   "outputs": [],
   "source": [
    "pd."
   ]
  }
 ],
 "metadata": {
  "kernelspec": {
   "display_name": "Python 3",
   "language": "python",
   "name": "python3"
  },
  "language_info": {
   "codemirror_mode": {
    "name": "ipython",
    "version": 3
   },
   "file_extension": ".py",
   "mimetype": "text/x-python",
   "name": "python",
   "nbconvert_exporter": "python",
   "pygments_lexer": "ipython3",
   "version": "3.8.5"
  }
 },
 "nbformat": 4,
 "nbformat_minor": 4
}
